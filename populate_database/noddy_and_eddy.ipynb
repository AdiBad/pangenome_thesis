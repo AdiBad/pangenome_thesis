{
 "cells": [
  {
   "cell_type": "markdown",
   "metadata": {},
   "source": [
    "# Use panaroo's output file (final_graph.gml) to generate a Node specific file and an Edge specific file"
   ]
  },
  {
   "cell_type": "code",
   "execution_count": 2,
   "metadata": {},
   "outputs": [
    {
     "name": "stdout",
     "output_type": "stream",
     "text": [
      "Requirement already satisfied: pandas in /home/adi/miniconda2/envs/jupyter_base/lib/python3.9/site-packages (1.2.2)\n",
      "Requirement already satisfied: python-dateutil>=2.7.3 in /home/adi/miniconda2/envs/jupyter_base/lib/python3.9/site-packages (from pandas) (2.8.1)\n",
      "Requirement already satisfied: pytz>=2017.3 in /home/adi/miniconda2/envs/jupyter_base/lib/python3.9/site-packages (from pandas) (2021.1)\n",
      "Requirement already satisfied: numpy>=1.16.5 in /home/adi/miniconda2/envs/jupyter_base/lib/python3.9/site-packages (from pandas) (1.20.1)\n",
      "Requirement already satisfied: six>=1.5 in /home/adi/miniconda2/envs/jupyter_base/lib/python3.9/site-packages (from python-dateutil>=2.7.3->pandas) (1.15.0)\n",
      "Collecting networkx\n",
      "  Downloading networkx-2.5.1-py3-none-any.whl (1.6 MB)\n",
      "\u001b[K     |████████████████████████████████| 1.6 MB 7.1 MB/s eta 0:00:01\n",
      "\u001b[?25hRequirement already satisfied: decorator<5,>=4.3 in /home/adi/miniconda2/envs/jupyter_base/lib/python3.9/site-packages (from networkx) (4.4.2)\n",
      "Installing collected packages: networkx\n",
      "Successfully installed networkx-2.5.1\n"
     ]
    }
   ],
   "source": [
    "!pip install pandas\n",
    "!pip install networkx"
   ]
  },
  {
   "cell_type": "code",
   "execution_count": 1,
   "metadata": {},
   "outputs": [],
   "source": [
    "import networkx as nx\n",
    "import pandas as pd"
   ]
  },
  {
   "cell_type": "code",
   "execution_count": 2,
   "metadata": {},
   "outputs": [],
   "source": [
    "#Read the graph\n",
    "G_id = nx.read_gml('final_graph.gml',label='id')"
   ]
  },
  {
   "cell_type": "code",
   "execution_count": 3,
   "metadata": {},
   "outputs": [],
   "source": [
    "#Convert graph with id as labels to dataframe\n",
    "dicgradic = dict(G_id.nodes(data=True))\n",
    "base_df = pd.DataFrame.from_dict(dicgradic, orient='index')"
   ]
  },
  {
   "cell_type": "code",
   "execution_count": 4,
   "metadata": {},
   "outputs": [],
   "source": [
    "reindex_base = base_df.reset_index()"
   ]
  },
  {
   "cell_type": "code",
   "execution_count": 5,
   "metadata": {},
   "outputs": [],
   "source": [
    "#Convert edge data to dataframe\n",
    "edge_df = nx.to_pandas_edgelist(G_id)"
   ]
  },
  {
   "cell_type": "code",
   "execution_count": 10,
   "metadata": {},
   "outputs": [
    {
     "data": {
      "text/html": [
       "<div>\n",
       "<style scoped>\n",
       "    .dataframe tbody tr th:only-of-type {\n",
       "        vertical-align: middle;\n",
       "    }\n",
       "\n",
       "    .dataframe tbody tr th {\n",
       "        vertical-align: top;\n",
       "    }\n",
       "\n",
       "    .dataframe thead th {\n",
       "        text-align: right;\n",
       "    }\n",
       "</style>\n",
       "<table border=\"1\" class=\"dataframe\">\n",
       "  <thead>\n",
       "    <tr style=\"text-align: right;\">\n",
       "      <th></th>\n",
       "      <th>source</th>\n",
       "      <th>target</th>\n",
       "      <th>members</th>\n",
       "      <th>genomeIDs</th>\n",
       "      <th>size</th>\n",
       "    </tr>\n",
       "  </thead>\n",
       "  <tbody>\n",
       "    <tr>\n",
       "      <th>0</th>\n",
       "      <td>0</td>\n",
       "      <td>1</td>\n",
       "      <td>[0, 1, 2, 3, 4, 5, 6, 7, 8, 9, 10, 11, 12, 13,...</td>\n",
       "      <td>0;1;2;3;4;5;6;7;8;9;10;11;12;13;14;15;16;17;18...</td>\n",
       "      <td>47</td>\n",
       "    </tr>\n",
       "    <tr>\n",
       "      <th>1</th>\n",
       "      <td>0</td>\n",
       "      <td>3240</td>\n",
       "      <td>[1, 2, 3, 8, 9, 12, 14, 15, 19, 23, 31, 33, 34...</td>\n",
       "      <td>1;2;3;8;9;12;14;15;19;23;31;33;34;35;39;40;41;...</td>\n",
       "      <td>20</td>\n",
       "    </tr>\n",
       "    <tr>\n",
       "      <th>2</th>\n",
       "      <td>1</td>\n",
       "      <td>8431</td>\n",
       "      <td>[0, 1, 2, 3, 4, 5, 6, 7, 8, 9, 10, 11, 12, 13,...</td>\n",
       "      <td>0;1;2;3;4;5;6;7;8;9;10;11;12;13;14;15;16;17;18...</td>\n",
       "      <td>47</td>\n",
       "    </tr>\n",
       "    <tr>\n",
       "      <th>3</th>\n",
       "      <td>2</td>\n",
       "      <td>3</td>\n",
       "      <td>[0, 1, 3, 4, 6, 7, 8, 9, 10, 11, 12, 13, 14, 1...</td>\n",
       "      <td>0;1;3;4;6;7;8;9;10;11;12;13;14;16;17;19;21;22;...</td>\n",
       "      <td>42</td>\n",
       "    </tr>\n",
       "    <tr>\n",
       "      <th>4</th>\n",
       "      <td>2</td>\n",
       "      <td>4071</td>\n",
       "      <td>[5]</td>\n",
       "      <td>5</td>\n",
       "      <td>1</td>\n",
       "    </tr>\n",
       "  </tbody>\n",
       "</table>\n",
       "</div>"
      ],
      "text/plain": [
       "   source  target                                            members  \\\n",
       "0       0       1  [0, 1, 2, 3, 4, 5, 6, 7, 8, 9, 10, 11, 12, 13,...   \n",
       "1       0    3240  [1, 2, 3, 8, 9, 12, 14, 15, 19, 23, 31, 33, 34...   \n",
       "2       1    8431  [0, 1, 2, 3, 4, 5, 6, 7, 8, 9, 10, 11, 12, 13,...   \n",
       "3       2       3  [0, 1, 3, 4, 6, 7, 8, 9, 10, 11, 12, 13, 14, 1...   \n",
       "4       2    4071                                                [5]   \n",
       "\n",
       "                                           genomeIDs  size  \n",
       "0  0;1;2;3;4;5;6;7;8;9;10;11;12;13;14;15;16;17;18...    47  \n",
       "1  1;2;3;8;9;12;14;15;19;23;31;33;34;35;39;40;41;...    20  \n",
       "2  0;1;2;3;4;5;6;7;8;9;10;11;12;13;14;15;16;17;18...    47  \n",
       "3  0;1;3;4;6;7;8;9;10;11;12;13;14;16;17;19;21;22;...    42  \n",
       "4                                                  5     1  "
      ]
     },
     "execution_count": 10,
     "metadata": {},
     "output_type": "execute_result"
    }
   ],
   "source": [
    "edge_df.head()"
   ]
  },
  {
   "cell_type": "code",
   "execution_count": 15,
   "metadata": {},
   "outputs": [],
   "source": [
    "#Remove special characters for ease of readability for Neo4j\n",
    "reindex_base[\"members\"]=reindex_base[\"members\"].apply(lambda x: str(x).replace(\"[\", \"\").replace(\"]\",\"\").replace(\",\",\"~\").replace(\" \",\"\"))\n",
    "reindex_base[\"seqIDs\"]=reindex_base[\"seqIDs\"].apply(lambda x: str(x).replace(\"[\", \"\").replace(\"]\",\"\").replace(\",\",\"~\").replace(\"'\",\"\").replace(\" \",\"\"))\n",
    "reindex_base[\"lengths\"]=reindex_base[\"lengths\"].apply(lambda x: str(x).replace(\"[\", \"\").replace(\"]\",\"\").replace(\",\",\"~\").replace(\" \",\"\"))\n",
    "edge_df[\"members\"]=edge_df[\"members\"].apply(lambda x: str(x).replace(\"[\", \"\").replace(\"]\",\"\").replace(\",\",\"~\").replace(\" \",\"\"))"
   ]
  },
  {
   "cell_type": "code",
   "execution_count": 16,
   "metadata": {},
   "outputs": [
    {
     "data": {
      "text/html": [
       "<div>\n",
       "<style scoped>\n",
       "    .dataframe tbody tr th:only-of-type {\n",
       "        vertical-align: middle;\n",
       "    }\n",
       "\n",
       "    .dataframe tbody tr th {\n",
       "        vertical-align: top;\n",
       "    }\n",
       "\n",
       "    .dataframe thead th {\n",
       "        text-align: right;\n",
       "    }\n",
       "</style>\n",
       "<table border=\"1\" class=\"dataframe\">\n",
       "  <thead>\n",
       "    <tr style=\"text-align: right;\">\n",
       "      <th></th>\n",
       "      <th>source</th>\n",
       "      <th>target</th>\n",
       "      <th>members</th>\n",
       "      <th>genomeIDs</th>\n",
       "      <th>size</th>\n",
       "    </tr>\n",
       "  </thead>\n",
       "  <tbody>\n",
       "    <tr>\n",
       "      <th>0</th>\n",
       "      <td>0</td>\n",
       "      <td>1</td>\n",
       "      <td>0~1~2~3~4~5~6~7~8~9~10~11~12~13~14~15~16~17~18...</td>\n",
       "      <td>0;1;2;3;4;5;6;7;8;9;10;11;12;13;14;15;16;17;18...</td>\n",
       "      <td>47</td>\n",
       "    </tr>\n",
       "    <tr>\n",
       "      <th>1</th>\n",
       "      <td>0</td>\n",
       "      <td>3240</td>\n",
       "      <td>1~2~3~8~9~12~14~15~19~23~31~33~34~35~39~40~41~...</td>\n",
       "      <td>1;2;3;8;9;12;14;15;19;23;31;33;34;35;39;40;41;...</td>\n",
       "      <td>20</td>\n",
       "    </tr>\n",
       "  </tbody>\n",
       "</table>\n",
       "</div>"
      ],
      "text/plain": [
       "   source  target                                            members  \\\n",
       "0       0       1  0~1~2~3~4~5~6~7~8~9~10~11~12~13~14~15~16~17~18...   \n",
       "1       0    3240  1~2~3~8~9~12~14~15~19~23~31~33~34~35~39~40~41~...   \n",
       "\n",
       "                                           genomeIDs  size  \n",
       "0  0;1;2;3;4;5;6;7;8;9;10;11;12;13;14;15;16;17;18...    47  \n",
       "1  1;2;3;8;9;12;14;15;19;23;31;33;34;35;39;40;41;...    20  "
      ]
     },
     "execution_count": 16,
     "metadata": {},
     "output_type": "execute_result"
    }
   ],
   "source": [
    "edge_df.head(2)"
   ]
  },
  {
   "cell_type": "code",
   "execution_count": 17,
   "metadata": {},
   "outputs": [
    {
     "data": {
      "text/html": [
       "<div>\n",
       "<style scoped>\n",
       "    .dataframe tbody tr th:only-of-type {\n",
       "        vertical-align: middle;\n",
       "    }\n",
       "\n",
       "    .dataframe tbody tr th {\n",
       "        vertical-align: top;\n",
       "    }\n",
       "\n",
       "    .dataframe thead th {\n",
       "        text-align: right;\n",
       "    }\n",
       "</style>\n",
       "<table border=\"1\" class=\"dataframe\">\n",
       "  <thead>\n",
       "    <tr style=\"text-align: right;\">\n",
       "      <th></th>\n",
       "      <th>id</th>\n",
       "      <th>label</th>\n",
       "      <th>size</th>\n",
       "      <th>centroid</th>\n",
       "      <th>maxLenId</th>\n",
       "      <th>members</th>\n",
       "      <th>seqIDs</th>\n",
       "      <th>hasEnd</th>\n",
       "      <th>protein</th>\n",
       "      <th>dna</th>\n",
       "      <th>annotation</th>\n",
       "      <th>description</th>\n",
       "      <th>lengths</th>\n",
       "      <th>longCentroidID</th>\n",
       "      <th>paralog</th>\n",
       "      <th>mergedDNA</th>\n",
       "      <th>genomeIDs</th>\n",
       "      <th>geneIDs</th>\n",
       "      <th>degrees</th>\n",
       "      <th>name</th>\n",
       "    </tr>\n",
       "  </thead>\n",
       "  <tbody>\n",
       "    <tr>\n",
       "      <th>0</th>\n",
       "      <td>0</td>\n",
       "      <td>2624</td>\n",
       "      <td>47</td>\n",
       "      <td>1_0_3237</td>\n",
       "      <td>0</td>\n",
       "      <td>0~1~2~3~4~5~6~7~8~9~10~11~12~13~14~15~16~17~18...</td>\n",
       "      <td>24_0_0~6_0_0~9_0_3124~26_0_0~25_0_0~2_0_2739~1...</td>\n",
       "      <td>1</td>\n",
       "      <td>VSVELWQQCVDLLRDELPSQQFNTWIRPLQVEAEGDELRVYAPNRF...</td>\n",
       "      <td>GTGTCCGTGGAACTTTGGCAGCAGTGCGTGGATCTTCTCCGCGATG...</td>\n",
       "      <td>dnaA</td>\n",
       "      <td>Chromosomal replication initiator protein DnaA</td>\n",
       "      <td>1545~1545~1545~1545~1545~1545~1545~1545~1545~1...</td>\n",
       "      <td>[1545, 1_0_3237]</td>\n",
       "      <td>0</td>\n",
       "      <td>0</td>\n",
       "      <td>0;1;2;3;4;5;6;7;8;9;10;11;12;13;14;15;16;17;18...</td>\n",
       "      <td>24_0_0;6_0_0;9_0_3124;26_0_0;25_0_0;2_0_2739;1...</td>\n",
       "      <td>2</td>\n",
       "      <td>dnaA</td>\n",
       "    </tr>\n",
       "    <tr>\n",
       "      <th>1</th>\n",
       "      <td>1</td>\n",
       "      <td>5572</td>\n",
       "      <td>47</td>\n",
       "      <td>0_0_1</td>\n",
       "      <td>0</td>\n",
       "      <td>0~1~2~3~4~5~6~7~8~9~10~11~12~13~14~15~16~17~18...</td>\n",
       "      <td>13_0_1~16_0_1~2_0_2738~21_0_1~41_0_6113~35_0_5...</td>\n",
       "      <td>0</td>\n",
       "      <td>MHFTIQREALLKPLQLVAGVVERRQTLPVLSNVLLVVEGQQLSLTG...</td>\n",
       "      <td>ATGCATTTCACCATTCAACGCGAAGCCCTGTTGAAACCGCTGCAAC...</td>\n",
       "      <td>dnaN</td>\n",
       "      <td>Beta sliding clamp</td>\n",
       "      <td>1104~1104~1104~1104~1104~1104~1104~1104~1104~1...</td>\n",
       "      <td>[1104, 0_0_1]</td>\n",
       "      <td>0</td>\n",
       "      <td>0</td>\n",
       "      <td>0;1;2;3;4;5;6;7;8;9;10;11;12;13;14;15;16;17;18...</td>\n",
       "      <td>13_0_1;16_0_1;2_0_2738;21_0_1;41_0_6113;35_0_5...</td>\n",
       "      <td>2</td>\n",
       "      <td>dnaN</td>\n",
       "    </tr>\n",
       "  </tbody>\n",
       "</table>\n",
       "</div>"
      ],
      "text/plain": [
       "   id label  size  centroid  maxLenId  \\\n",
       "0   0  2624    47  1_0_3237         0   \n",
       "1   1  5572    47     0_0_1         0   \n",
       "\n",
       "                                             members  \\\n",
       "0  0~1~2~3~4~5~6~7~8~9~10~11~12~13~14~15~16~17~18...   \n",
       "1  0~1~2~3~4~5~6~7~8~9~10~11~12~13~14~15~16~17~18...   \n",
       "\n",
       "                                              seqIDs  hasEnd  \\\n",
       "0  24_0_0~6_0_0~9_0_3124~26_0_0~25_0_0~2_0_2739~1...       1   \n",
       "1  13_0_1~16_0_1~2_0_2738~21_0_1~41_0_6113~35_0_5...       0   \n",
       "\n",
       "                                             protein  \\\n",
       "0  VSVELWQQCVDLLRDELPSQQFNTWIRPLQVEAEGDELRVYAPNRF...   \n",
       "1  MHFTIQREALLKPLQLVAGVVERRQTLPVLSNVLLVVEGQQLSLTG...   \n",
       "\n",
       "                                                 dna annotation  \\\n",
       "0  GTGTCCGTGGAACTTTGGCAGCAGTGCGTGGATCTTCTCCGCGATG...       dnaA   \n",
       "1  ATGCATTTCACCATTCAACGCGAAGCCCTGTTGAAACCGCTGCAAC...       dnaN   \n",
       "\n",
       "                                      description  \\\n",
       "0  Chromosomal replication initiator protein DnaA   \n",
       "1                              Beta sliding clamp   \n",
       "\n",
       "                                             lengths    longCentroidID  \\\n",
       "0  1545~1545~1545~1545~1545~1545~1545~1545~1545~1...  [1545, 1_0_3237]   \n",
       "1  1104~1104~1104~1104~1104~1104~1104~1104~1104~1...     [1104, 0_0_1]   \n",
       "\n",
       "   paralog  mergedDNA                                          genomeIDs  \\\n",
       "0        0          0  0;1;2;3;4;5;6;7;8;9;10;11;12;13;14;15;16;17;18...   \n",
       "1        0          0  0;1;2;3;4;5;6;7;8;9;10;11;12;13;14;15;16;17;18...   \n",
       "\n",
       "                                             geneIDs  degrees  name  \n",
       "0  24_0_0;6_0_0;9_0_3124;26_0_0;25_0_0;2_0_2739;1...        2  dnaA  \n",
       "1  13_0_1;16_0_1;2_0_2738;21_0_1;41_0_6113;35_0_5...        2  dnaN  "
      ]
     },
     "execution_count": 17,
     "metadata": {},
     "output_type": "execute_result"
    }
   ],
   "source": [
    "reindex_base.head(2)"
   ]
  },
  {
   "cell_type": "code",
   "execution_count": 13,
   "metadata": {},
   "outputs": [],
   "source": [
    "reindex_base=reindex_base.rename(columns={\"index\": \"id\"})"
   ]
  },
  {
   "cell_type": "code",
   "execution_count": 18,
   "metadata": {},
   "outputs": [],
   "source": [
    "#Save dataframes separately\n",
    "reindex_base[['id','name','label','description','seqIDs','lengths','annotation','dna','protein']].to_csv(\"Nodes_base.csv\",index=None)\n",
    "edge_df[['source','target','size','members']].to_csv(\"Edges_base.csv\",index=None)"
   ]
  },
  {
   "cell_type": "code",
   "execution_count": null,
   "metadata": {},
   "outputs": [],
   "source": []
  }
 ],
 "metadata": {
  "kernelspec": {
   "display_name": "Python 3",
   "language": "python",
   "name": "python3"
  },
  "language_info": {
   "codemirror_mode": {
    "name": "ipython",
    "version": 3
   },
   "file_extension": ".py",
   "mimetype": "text/x-python",
   "name": "python",
   "nbconvert_exporter": "python",
   "pygments_lexer": "ipython3",
   "version": "3.9.2"
  }
 },
 "nbformat": 4,
 "nbformat_minor": 2
}
