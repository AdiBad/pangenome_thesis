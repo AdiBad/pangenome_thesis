{
 "cells": [
  {
   "cell_type": "markdown",
   "id": "geographic-portable",
   "metadata": {},
   "source": [
    "# Use Neo4j output csv file particular to cloud/shell/persistent genes and make a graph for each "
   ]
  },
  {
   "cell_type": "code",
   "execution_count": 9,
   "id": "standing-perspective",
   "metadata": {},
   "outputs": [
    {
     "name": "stdout",
     "output_type": "stream",
     "text": [
      "Collecting matplotlib\n",
      "  Downloading matplotlib-3.4.1-cp39-cp39-manylinux1_x86_64.whl (10.3 MB)\n",
      "\u001b[K     |████████████████████████████████| 10.3 MB 8.1 MB/s eta 0:00:01\n",
      "\u001b[?25hRequirement already satisfied: python-dateutil>=2.7 in /home/adi/miniconda2/envs/jupyter_base/lib/python3.9/site-packages (from matplotlib) (2.8.1)\n",
      "Collecting cycler>=0.10\n",
      "  Using cached cycler-0.10.0-py2.py3-none-any.whl (6.5 kB)\n",
      "Collecting pillow>=6.2.0\n",
      "  Downloading Pillow-8.2.0-cp39-cp39-manylinux1_x86_64.whl (3.0 MB)\n",
      "\u001b[K     |████████████████████████████████| 3.0 MB 49.3 MB/s eta 0:00:01\n",
      "\u001b[?25hRequirement already satisfied: numpy>=1.16 in /home/adi/miniconda2/envs/jupyter_base/lib/python3.9/site-packages (from matplotlib) (1.20.1)\n",
      "Requirement already satisfied: pyparsing>=2.2.1 in /home/adi/miniconda2/envs/jupyter_base/lib/python3.9/site-packages (from matplotlib) (2.4.7)\n",
      "Collecting kiwisolver>=1.0.1\n",
      "  Downloading kiwisolver-1.3.1-cp39-cp39-manylinux1_x86_64.whl (1.2 MB)\n",
      "\u001b[K     |████████████████████████████████| 1.2 MB 79.5 MB/s eta 0:00:01\n",
      "\u001b[?25hRequirement already satisfied: six in /home/adi/miniconda2/envs/jupyter_base/lib/python3.9/site-packages (from cycler>=0.10->matplotlib) (1.15.0)\n",
      "Installing collected packages: pillow, kiwisolver, cycler, matplotlib\n",
      "Successfully installed cycler-0.10.0 kiwisolver-1.3.1 matplotlib-3.4.1 pillow-8.2.0\n"
     ]
    }
   ],
   "source": [
    "!pip install matplotlib"
   ]
  },
  {
   "cell_type": "code",
   "execution_count": 91,
   "id": "elementary-bradley",
   "metadata": {},
   "outputs": [],
   "source": [
    "#Set plot output size\n",
    "plt.rcParams[\"figure.figsize\"] = (20,4)"
   ]
  },
  {
   "cell_type": "code",
   "execution_count": 97,
   "id": "constitutional-stream",
   "metadata": {},
   "outputs": [
    {
     "data": {
      "text/html": [
       "<div>\n",
       "<style scoped>\n",
       "    .dataframe tbody tr th:only-of-type {\n",
       "        vertical-align: middle;\n",
       "    }\n",
       "\n",
       "    .dataframe tbody tr th {\n",
       "        vertical-align: top;\n",
       "    }\n",
       "\n",
       "    .dataframe thead th {\n",
       "        text-align: right;\n",
       "    }\n",
       "</style>\n",
       "<table border=\"1\" class=\"dataframe\">\n",
       "  <thead>\n",
       "    <tr style=\"text-align: right;\">\n",
       "      <th></th>\n",
       "      <th>m.cluster_id</th>\n",
       "      <th>n.CDS_start</th>\n",
       "      <th>n.CDS_stop</th>\n",
       "    </tr>\n",
       "  </thead>\n",
       "  <tbody>\n",
       "    <tr>\n",
       "      <th>0</th>\n",
       "      <td>1590</td>\n",
       "      <td>NaN</td>\n",
       "      <td>NaN</td>\n",
       "    </tr>\n",
       "    <tr>\n",
       "      <th>1</th>\n",
       "      <td>2416</td>\n",
       "      <td>467228.0</td>\n",
       "      <td>467470.0</td>\n",
       "    </tr>\n",
       "    <tr>\n",
       "      <th>2</th>\n",
       "      <td>3588</td>\n",
       "      <td>8573.0</td>\n",
       "      <td>8941.0</td>\n",
       "    </tr>\n",
       "    <tr>\n",
       "      <th>3</th>\n",
       "      <td>3592</td>\n",
       "      <td>538.0</td>\n",
       "      <td>2322.0</td>\n",
       "    </tr>\n",
       "    <tr>\n",
       "      <th>4</th>\n",
       "      <td>3593</td>\n",
       "      <td>451.0</td>\n",
       "      <td>765.0</td>\n",
       "    </tr>\n",
       "  </tbody>\n",
       "</table>\n",
       "</div>"
      ],
      "text/plain": [
       "   m.cluster_id  n.CDS_start  n.CDS_stop\n",
       "0          1590          NaN         NaN\n",
       "1          2416     467228.0    467470.0\n",
       "2          3588       8573.0      8941.0\n",
       "3          3592        538.0      2322.0\n",
       "4          3593        451.0       765.0"
      ]
     },
     "execution_count": 97,
     "metadata": {},
     "output_type": "execute_result"
    }
   ],
   "source": [
    "#Read in the data from Neo4j\n",
    "import pandas as pd\n",
    "df = pd.read_csv('/home/adi/Downloads/palo28_cloud.csv')\n",
    "df.head()"
   ]
  },
  {
   "cell_type": "code",
   "execution_count": 98,
   "id": "vital-devil",
   "metadata": {},
   "outputs": [
    {
     "data": {
      "text/html": [
       "<div>\n",
       "<style scoped>\n",
       "    .dataframe tbody tr th:only-of-type {\n",
       "        vertical-align: middle;\n",
       "    }\n",
       "\n",
       "    .dataframe tbody tr th {\n",
       "        vertical-align: top;\n",
       "    }\n",
       "\n",
       "    .dataframe thead th {\n",
       "        text-align: right;\n",
       "    }\n",
       "</style>\n",
       "<table border=\"1\" class=\"dataframe\">\n",
       "  <thead>\n",
       "    <tr style=\"text-align: right;\">\n",
       "      <th></th>\n",
       "      <th>m.cluster_id</th>\n",
       "      <th>n.CDS_start</th>\n",
       "      <th>n.CDS_stop</th>\n",
       "    </tr>\n",
       "  </thead>\n",
       "  <tbody>\n",
       "    <tr>\n",
       "      <th>369</th>\n",
       "      <td>12193</td>\n",
       "      <td>892786.0</td>\n",
       "      <td>892992.0</td>\n",
       "    </tr>\n",
       "    <tr>\n",
       "      <th>370</th>\n",
       "      <td>12216</td>\n",
       "      <td>16327.0</td>\n",
       "      <td>17367.0</td>\n",
       "    </tr>\n",
       "    <tr>\n",
       "      <th>371</th>\n",
       "      <td>12222</td>\n",
       "      <td>864301.0</td>\n",
       "      <td>865365.0</td>\n",
       "    </tr>\n",
       "    <tr>\n",
       "      <th>372</th>\n",
       "      <td>12284</td>\n",
       "      <td>874148.0</td>\n",
       "      <td>874453.0</td>\n",
       "    </tr>\n",
       "    <tr>\n",
       "      <th>373</th>\n",
       "      <td>12297</td>\n",
       "      <td>495394.0</td>\n",
       "      <td>495792.0</td>\n",
       "    </tr>\n",
       "  </tbody>\n",
       "</table>\n",
       "</div>"
      ],
      "text/plain": [
       "     m.cluster_id  n.CDS_start  n.CDS_stop\n",
       "369         12193     892786.0    892992.0\n",
       "370         12216      16327.0     17367.0\n",
       "371         12222     864301.0    865365.0\n",
       "372         12284     874148.0    874453.0\n",
       "373         12297     495394.0    495792.0"
      ]
     },
     "execution_count": 98,
     "metadata": {},
     "output_type": "execute_result"
    }
   ],
   "source": [
    "df.tail()"
   ]
  },
  {
   "cell_type": "code",
   "execution_count": 101,
   "id": "foreign-novel",
   "metadata": {},
   "outputs": [
    {
     "data": {
      "image/png": "[encoded data removed]",
      "text/plain": [
       "<Figure size 1440x288 with 1 Axes>"
      ]
     },
     "metadata": {
      "needs_background": "light"
     },
     "output_type": "display_data"
    }
   ],
   "source": [
    "#Remove NA values and scatter all the required CDS as 1 (cloud/shell/persistent) and 0 (none)\n",
    "#FOR CLOUD\n",
    "df=df.dropna()\n",
    "plt.xlim(0,int((max(df['n.CDS_stop']))))\n",
    "plt.title('CLOUD')\n",
    "plt.xlabel('CDS range')\n",
    "plt.ylabel('Gene present')\n",
    "\n",
    "for i in range(0,len(df)):\n",
    "    plt.scatter(range(int(df.iloc[i]['n.CDS_start']),int(df.iloc[i]['n.CDS_stop'])),[1]*len(range(int(df.iloc[i]['n.CDS_start']),int(df.iloc[i]['n.CDS_stop']))),c='green')"
   ]
  },
  {
   "cell_type": "raw",
   "id": "ongoing-apartment",
   "metadata": {},
   "source": [
    "PERSISTENT"
   ]
  },
  {
   "cell_type": "code",
   "execution_count": 102,
   "id": "indian-ecology",
   "metadata": {},
   "outputs": [
    {
     "data": {
      "text/html": [
       "<div>\n",
       "<style scoped>\n",
       "    .dataframe tbody tr th:only-of-type {\n",
       "        vertical-align: middle;\n",
       "    }\n",
       "\n",
       "    .dataframe tbody tr th {\n",
       "        vertical-align: top;\n",
       "    }\n",
       "\n",
       "    .dataframe thead th {\n",
       "        text-align: right;\n",
       "    }\n",
       "</style>\n",
       "<table border=\"1\" class=\"dataframe\">\n",
       "  <thead>\n",
       "    <tr style=\"text-align: right;\">\n",
       "      <th></th>\n",
       "      <th>m.cluster_id</th>\n",
       "      <th>n.CDS_start</th>\n",
       "      <th>n.CDS_stop</th>\n",
       "    </tr>\n",
       "  </thead>\n",
       "  <tbody>\n",
       "    <tr>\n",
       "      <th>0</th>\n",
       "      <td>0</td>\n",
       "      <td>3334760.0</td>\n",
       "      <td>3336304.0</td>\n",
       "    </tr>\n",
       "    <tr>\n",
       "      <th>1</th>\n",
       "      <td>1</td>\n",
       "      <td>3336333.0</td>\n",
       "      <td>3337436.0</td>\n",
       "    </tr>\n",
       "    <tr>\n",
       "      <th>2</th>\n",
       "      <td>2</td>\n",
       "      <td>3338552.0</td>\n",
       "      <td>3340972.0</td>\n",
       "    </tr>\n",
       "    <tr>\n",
       "      <th>3</th>\n",
       "      <td>3</td>\n",
       "      <td>3341296.0</td>\n",
       "      <td>3342069.0</td>\n",
       "    </tr>\n",
       "    <tr>\n",
       "      <th>4</th>\n",
       "      <td>4</td>\n",
       "      <td>3344712.0</td>\n",
       "      <td>3346769.0</td>\n",
       "    </tr>\n",
       "  </tbody>\n",
       "</table>\n",
       "</div>"
      ],
      "text/plain": [
       "   m.cluster_id  n.CDS_start  n.CDS_stop\n",
       "0             0    3334760.0   3336304.0\n",
       "1             1    3336333.0   3337436.0\n",
       "2             2    3338552.0   3340972.0\n",
       "3             3    3341296.0   3342069.0\n",
       "4             4    3344712.0   3346769.0"
      ]
     },
     "execution_count": 102,
     "metadata": {},
     "output_type": "execute_result"
    }
   ],
   "source": [
    "import pandas as pd\n",
    "df_pers = pd.read_csv('/home/adi/Downloads/palo28_persistent.csv')\n",
    "df_pers.head()"
   ]
  },
  {
   "cell_type": "code",
   "execution_count": 103,
   "id": "unnecessary-table",
   "metadata": {},
   "outputs": [
    {
     "data": {
      "image/png": "[encoded data removed]",
      "text/plain": [
       "<Figure size 1440x288 with 1 Axes>"
      ]
     },
     "metadata": {
      "needs_background": "light"
     },
     "output_type": "display_data"
    }
   ],
   "source": [
    "#Remove NA values and scatter all the required CDS as 1 (cloud/shell/persistent) and 0 (none)\n",
    "#FOR PERSISTENT\n",
    "\n",
    "df_pers=df_pers.dropna()\n",
    "plt.xlim(0,int((max(df_pers['n.CDS_stop']))))\n",
    "plt.title('PERSISTENT')\n",
    "plt.xlabel('CDS range')\n",
    "plt.ylabel('Gene present')\n",
    "\n",
    "for i in range(0,len(df_pers)):\n",
    "    plt.scatter(range(int(df_pers.iloc[i]['n.CDS_start']),int(df_pers.iloc[i]['n.CDS_stop'])),[1]*len(range(int(df_pers.iloc[i]['n.CDS_start']),int(df_pers.iloc[i]['n.CDS_stop']))),c='orange')"
   ]
  },
  {
   "cell_type": "raw",
   "id": "early-nylon",
   "metadata": {},
   "source": [
    "SHELL"
   ]
  },
  {
   "cell_type": "code",
   "execution_count": 75,
   "id": "plastic-newton",
   "metadata": {},
   "outputs": [
    {
     "data": {
      "text/html": [
       "<div>\n",
       "<style scoped>\n",
       "    .dataframe tbody tr th:only-of-type {\n",
       "        vertical-align: middle;\n",
       "    }\n",
       "\n",
       "    .dataframe tbody tr th {\n",
       "        vertical-align: top;\n",
       "    }\n",
       "\n",
       "    .dataframe thead th {\n",
       "        text-align: right;\n",
       "    }\n",
       "</style>\n",
       "<table border=\"1\" class=\"dataframe\">\n",
       "  <thead>\n",
       "    <tr style=\"text-align: right;\">\n",
       "      <th></th>\n",
       "      <th>m.cluster_id</th>\n",
       "      <th>n.CDS_start</th>\n",
       "      <th>n.CDS_stop</th>\n",
       "    </tr>\n",
       "  </thead>\n",
       "  <tbody>\n",
       "    <tr>\n",
       "      <th>0</th>\n",
       "      <td>59</td>\n",
       "      <td>1333400.0</td>\n",
       "      <td>1334692.0</td>\n",
       "    </tr>\n",
       "    <tr>\n",
       "      <th>1</th>\n",
       "      <td>365</td>\n",
       "      <td>764731.0</td>\n",
       "      <td>765288.0</td>\n",
       "    </tr>\n",
       "    <tr>\n",
       "      <th>2</th>\n",
       "      <td>366</td>\n",
       "      <td>764252.0</td>\n",
       "      <td>764578.0</td>\n",
       "    </tr>\n",
       "    <tr>\n",
       "      <th>3</th>\n",
       "      <td>367</td>\n",
       "      <td>763368.0</td>\n",
       "      <td>764255.0</td>\n",
       "    </tr>\n",
       "    <tr>\n",
       "      <th>4</th>\n",
       "      <td>368</td>\n",
       "      <td>759080.0</td>\n",
       "      <td>760240.0</td>\n",
       "    </tr>\n",
       "  </tbody>\n",
       "</table>\n",
       "</div>"
      ],
      "text/plain": [
       "   m.cluster_id  n.CDS_start  n.CDS_stop\n",
       "0            59    1333400.0   1334692.0\n",
       "1           365     764731.0    765288.0\n",
       "2           366     764252.0    764578.0\n",
       "3           367     763368.0    764255.0\n",
       "4           368     759080.0    760240.0"
      ]
     },
     "execution_count": 75,
     "metadata": {},
     "output_type": "execute_result"
    }
   ],
   "source": [
    "import pandas as pd\n",
    "df_shell = pd.read_csv('/home/adi/Downloads/palo28_shell.csv')\n",
    "df_shell.head()"
   ]
  },
  {
   "cell_type": "code",
   "execution_count": 96,
   "id": "worthy-popularity",
   "metadata": {},
   "outputs": [
    {
     "data": {
      "image/png": "[encoded data removed]",
      "text/plain": [
       "<Figure size 1440x288 with 1 Axes>"
      ]
     },
     "metadata": {
      "needs_background": "light"
     },
     "output_type": "display_data"
    }
   ],
   "source": [
    "#Remove NA values and scatter all the required CDS as 1 (cloud/shell/persistent) and 0 (none)\n",
    "#FOR SHELL\n",
    "\n",
    "df_shell=df_shell.dropna()\n",
    "plt.xlim(0,int((max(df_shell['n.CDS_stop']))))\n",
    "plt.title('SHELL')\n",
    "plt.xlabel('CDS range')\n",
    "plt.ylabel('Gene present')\n",
    "\n",
    "for i in range(0,len(df_shell)):\n",
    "    plt.scatter(range(int(df_shell.iloc[i]['n.CDS_start']),int(df_shell.iloc[i]['n.CDS_stop'])),[1]*len(range(int(df_shell.iloc[i]['n.CDS_start']),int(df_shell.iloc[i]['n.CDS_stop']))),c='cyan')"
   ]
  },
  {
   "cell_type": "code",
   "execution_count": null,
   "id": "ideal-panel",
   "metadata": {},
   "outputs": [],
   "source": []
  }
 ],
 "metadata": {
  "kernelspec": {
   "display_name": "Python 3",
   "language": "python",
   "name": "python3"
  },
  "language_info": {
   "codemirror_mode": {
    "name": "ipython",
    "version": 3
   },
   "file_extension": ".py",
   "mimetype": "text/x-python",
   "name": "python",
   "nbconvert_exporter": "python",
   "pygments_lexer": "ipython3",
   "version": "3.9.2"
  }
 },
 "nbformat": 4,
 "nbformat_minor": 5
}
